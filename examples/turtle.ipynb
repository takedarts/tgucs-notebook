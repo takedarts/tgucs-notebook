{
 "cells": [
  {
   "cell_type": "markdown",
   "id": "e63a8a29-db21-43ce-9f99-f5c7d9433a54",
   "metadata": {},
   "source": [
    "## JupyterLabでのturtle graphics\n",
    "pythonの標準ライブラリであるturtleと同様のプログラムを実行できる。\n",
    "\n",
    "[ipyturtle3](https://github.com/williamnavaraj/ipyturtle3)を使用している。"
   ]
  },
  {
   "cell_type": "code",
   "execution_count": 1,
   "id": "9d1caf0d-6af6-41fe-b0d7-21af8a5600f2",
   "metadata": {},
   "outputs": [
    {
     "data": {
      "application/vnd.jupyter.widget-view+json": {
       "model_id": "4ed9aceefa604eb98a96760c2687477b",
       "version_major": 2,
       "version_minor": 0
      },
      "text/plain": [
       "Canvas(height=250, width=500)"
      ]
     },
     "metadata": {},
     "output_type": "display_data"
    }
   ],
   "source": [
    "import ipyturtle3 as turtle\n",
    "\n",
    "canvas = turtle.Canvas(width=500, height=250)\n",
    "display(canvas)\n",
    "\n",
    "screen = turtle.TurtleScreen(canvas)\n",
    "screen.clear()\n",
    "screen.bgcolor(\"lightgray\")\n",
    "\n",
    "t = turtle.Turtle(screen)\n",
    "t.shape(\"turtle\")"
   ]
  },
  {
   "cell_type": "code",
   "execution_count": 2,
   "id": "d6d11f9a-15eb-4719-8435-f4fc44ee0d75",
   "metadata": {},
   "outputs": [],
   "source": [
    "def square(size):\n",
    "    for i in range(4):\n",
    "        t.forward(size)\n",
    "        t.right(90)\n",
    "\n",
    "\n",
    "def triangle(size):\n",
    "    for i in range(3):\n",
    "        t.forward(size)\n",
    "        t.right(120)\n",
    "\n",
    "\n",
    "def house(size):\n",
    "    square(size)\n",
    "    t.left(90)\n",
    "    t.right(30)\n",
    "    triangle(size)\n",
    "\n",
    "\n",
    "t.reset()\n",
    "t.back(50)\n",
    "house(100)"
   ]
  },
  {
   "cell_type": "code",
   "execution_count": null,
   "id": "fb9c0e14-4fa2-4c3f-b2db-f0dc507ef702",
   "metadata": {},
   "outputs": [],
   "source": []
  }
 ],
 "metadata": {
  "kernelspec": {
   "display_name": "Python 3 (ipykernel)",
   "language": "python",
   "name": "python3"
  },
  "language_info": {
   "codemirror_mode": {
    "name": "ipython",
    "version": 3
   },
   "file_extension": ".py",
   "mimetype": "text/x-python",
   "name": "python",
   "nbconvert_exporter": "python",
   "pygments_lexer": "ipython3",
   "version": "3.10.8"
  }
 },
 "nbformat": 4,
 "nbformat_minor": 5
}
