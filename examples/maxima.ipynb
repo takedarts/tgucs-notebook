{
 "cells": [
  {
   "cell_type": "markdown",
   "id": "84d44458-1d39-413b-9199-f96f0e21036b",
   "metadata": {},
   "source": [
    "## Maximaのサンプル\n",
    "Maximaを使った計算のサンプル。"
   ]
  },
  {
   "cell_type": "code",
   "execution_count": 1,
   "id": "404d1947-aa57-4867-a48b-b80a14e12739",
   "metadata": {},
   "outputs": [
    {
     "data": {
      "text/latex": [
       "\\[\\tag{${\\it \\%o}_{0}$}\\left[ x=-3 , x=-2 \\right] \\]"
      ],
      "text/plain": [
       "(%o0)                         [x = - 3, x = - 2]"
      ],
      "text/x-maxima": [
       "[x = -3,x = -2]"
      ]
     },
     "execution_count": 1,
     "metadata": {},
     "output_type": "execute_result"
    }
   ],
   "source": [
    "solve(x^2 + 5*x + 6);"
   ]
  },
  {
   "cell_type": "code",
   "execution_count": 2,
   "id": "81e11b29-5c2c-48db-9a2b-c10296a24a2a",
   "metadata": {},
   "outputs": [
    {
     "data": {
      "text/latex": [
       "\\[\\tag{${\\it \\%o}_{1}$}\\left[ x=-\\frac{\\sqrt{11}\\,i+1}{2} , x=\\frac{\\sqrt{11}\\,i-1}{2} \\right] \\]"
      ],
      "text/plain": [
       "                        sqrt(11) %i + 1      sqrt(11) %i - 1\n",
       "(%o1)            [x = - ---------------, x = ---------------]\n",
       "                               2                    2"
      ],
      "text/x-maxima": [
       "[x = -(sqrt(11)*%i+1)/2,x = (sqrt(11)*%i-1)/2]"
      ]
     },
     "execution_count": 2,
     "metadata": {},
     "output_type": "execute_result"
    }
   ],
   "source": [
    "solve(x^2 + x + 3);"
   ]
  },
  {
   "cell_type": "code",
   "execution_count": 3,
   "id": "dda14324-3242-4ad8-b840-d6d8989fa098",
   "metadata": {},
   "outputs": [
    {
     "data": {
      "text/latex": [
       "\\[\\tag{${\\it \\%o}_{2}$}x^3-9\\,i\\,x^2-27\\,x+27\\,i\\]"
      ],
      "text/plain": [
       "                           3         2\n",
       "(%o2)                     x  - 9 %i x  - 27 x + 27 %i"
      ],
      "text/x-maxima": [
       "x^3-9*%i*x^2-27*x+27*%i"
      ]
     },
     "execution_count": 3,
     "metadata": {},
     "output_type": "execute_result"
    }
   ],
   "source": [
    "expand((x - 3*%i)^3);"
   ]
  },
  {
   "cell_type": "code",
   "execution_count": 4,
   "id": "29408066-f3c7-4f7d-9681-943fd2691bb7",
   "metadata": {},
   "outputs": [
    {
     "data": {
      "text/latex": [
       "\\[\\tag{${\\it \\%o}_{3}$}\\begin{pmatrix}y+2\\,x & y\\,z+3\\,x \\\\ 2\\,x+1 & z+3\\,x \\\\ \\end{pmatrix}\\]"
      ],
      "text/plain": [
       "                            [ y + 2 x  y z + 3 x ]\n",
       "(%o3)                       [                    ]\n",
       "                            [ 2 x + 1   z + 3 x  ]"
      ],
      "text/x-maxima": [
       "matrix([y+2*x,y*z+3*x],[2*x+1,z+3*x])"
      ]
     },
     "execution_count": 4,
     "metadata": {},
     "output_type": "execute_result"
    }
   ],
   "source": [
    "matrix([x, y], [x, 1]) . matrix([2, 3], [1, z]);"
   ]
  },
  {
   "attachments": {},
   "cell_type": "markdown",
   "id": "9df48910-29a6-4d33-8a55-59c6a230f8f8",
   "metadata": {},
   "source": [
    "## グラフを表示する\n",
    "以下のコードを実行すると、グラフをnotebook上に表示できるようになる。\n",
    "\n",
    "`set_plot_option([svg_file, \"~/.maxplot.svg\"])$`"
   ]
  },
  {
   "cell_type": "code",
   "execution_count": 5,
   "id": "dd23cd9f-642b-458a-956d-d442b94fb163",
   "metadata": {},
   "outputs": [
    {
     "data": {
      "image/svg+xml": [
       "<?xml version=\"1.0\" encoding=\"utf-8\"  standalone=\"no\"?>\n",
       "<svg \n",
       " width=\"600\" height=\"480\"\n",
       " viewBox=\"0 0 600 480\"\n",
       " xmlns=\"http://www.w3.org/2000/svg\"\n",
       " xmlns:xlink=\"http://www.w3.org/1999/xlink\"\n",
       ">\n",
       "\n",
       "<title>Gnuplot</title>\n",
       "<desc>Produced by GNUPLOT 5.4 patchlevel 2 </desc>\n",
       "\n",
       "<g id=\"gnuplot_canvas\">\n",
       "\n",
       "<rect x=\"0\" y=\"0\" width=\"600\" height=\"480\" fill=\"none\"/>\n",
       "<defs>\n",
       "\n",
       "\t<circle id='gpDot' r='0.5' stroke-width='0.5' stroke='currentColor'/>\n",
       "\t<path id='gpPt0' stroke-width='0.190' stroke='currentColor' d='M-1,0 h2 M0,-1 v2'/>\n",
       "\t<path id='gpPt1' stroke-width='0.190' stroke='currentColor' d='M-1,-1 L1,1 M1,-1 L-1,1'/>\n",
       "\t<path id='gpPt2' stroke-width='0.190' stroke='currentColor' d='M-1,0 L1,0 M0,-1 L0,1 M-1,-1 L1,1 M-1,1 L1,-1'/>\n",
       "\t<rect id='gpPt3' stroke-width='0.190' stroke='currentColor' x='-1' y='-1' width='2' height='2'/>\n",
       "\t<rect id='gpPt4' stroke-width='0.190' stroke='currentColor' fill='currentColor' x='-1' y='-1' width='2' height='2'/>\n",
       "\t<circle id='gpPt5' stroke-width='0.190' stroke='currentColor' cx='0' cy='0' r='1'/>\n",
       "\t<use xlink:href='#gpPt5' id='gpPt6' fill='currentColor' stroke='none'/>\n",
       "\t<path id='gpPt7' stroke-width='0.190' stroke='currentColor' d='M0,-1.33 L-1.33,0.67 L1.33,0.67 z'/>\n",
       "\t<use xlink:href='#gpPt7' id='gpPt8' fill='currentColor' stroke='none'/>\n",
       "\t<use xlink:href='#gpPt7' id='gpPt9' stroke='currentColor' transform='rotate(180)'/>\n",
       "\t<use xlink:href='#gpPt9' id='gpPt10' fill='currentColor' stroke='none'/>\n",
       "\t<use xlink:href='#gpPt3' id='gpPt11' stroke='currentColor' transform='rotate(45)'/>\n",
       "\t<use xlink:href='#gpPt11' id='gpPt12' fill='currentColor' stroke='none'/>\n",
       "\t<path id='gpPt13' stroke-width='0.190' stroke='currentColor' d='M0,1.330 L1.265,0.411 L0.782,-1.067 L-0.782,-1.076 L-1.265,0.411 z'/>\n",
       "\t<use xlink:href='#gpPt13' id='gpPt14' fill='currentColor' stroke='none'/>\n",
       "\t<filter id='textbox' filterUnits='objectBoundingBox' x='0' y='0' height='1' width='1'>\n",
       "\t  <feFlood flood-color='white' flood-opacity='1' result='bgnd'/>\n",
       "\t  <feComposite in='SourceGraphic' in2='bgnd' operator='atop'/>\n",
       "\t</filter>\n",
       "\t<filter id='greybox' filterUnits='objectBoundingBox' x='0' y='0' height='1' width='1'>\n",
       "\t  <feFlood flood-color='lightgrey' flood-opacity='1' result='grey'/>\n",
       "\t  <feComposite in='SourceGraphic' in2='grey' operator='atop'/>\n",
       "\t</filter>\n",
       "</defs>\n",
       "<g fill=\"none\" color=\"white\" stroke=\"currentColor\" stroke-width=\"1.00\" stroke-linecap=\"butt\" stroke-linejoin=\"miter\">\n",
       "</g>\n",
       "<g fill=\"none\" color=\"gray\" stroke=\"currentColor\" stroke-width=\"1.00\" stroke-linecap=\"butt\" stroke-linejoin=\"miter\">\n",
       "\t<path stroke='black' stroke-dasharray='2,4'  d='M84.63,216.90 L570.62,216.90  '/></g>\n",
       "<g fill=\"none\" color=\"gray\" stroke=\"currentColor\" stroke-width=\"1.00\" stroke-linecap=\"butt\" stroke-linejoin=\"miter\">\n",
       "\t<path stroke='black' stroke-dasharray='2,4'  d='M327.63,399.15 L327.63,34.66  '/></g>\n",
       "<g fill=\"none\" color=\"black\" stroke=\"currentColor\" stroke-width=\"1.00\" stroke-linecap=\"butt\" stroke-linejoin=\"miter\">\n",
       "\t<path stroke='black'  d='M84.63,34.66 L84.63,399.15 L570.62,399.15 L570.62,34.66 L84.63,34.66 Z  '/></g>\n",
       "<g fill=\"none\" color=\"black\" stroke=\"currentColor\" stroke-width=\"1.00\" stroke-linecap=\"butt\" stroke-linejoin=\"miter\">\n",
       "\t<g transform=\"translate(22.38,216.91) rotate(270)\" stroke=\"none\" fill=\"black\" font-family=\"Arial\" font-size=\"14.00\"  text-anchor=\"middle\">\n",
       "\t\t<text>sin(x)</text>\n",
       "\t</g>\n",
       "</g>\n",
       "<g fill=\"none\" color=\"black\" stroke=\"currentColor\" stroke-width=\"1.00\" stroke-linecap=\"butt\" stroke-linejoin=\"miter\">\n",
       "\t<g transform=\"translate(327.62,456.20)\" stroke=\"none\" fill=\"black\" font-family=\"Arial\" font-size=\"14.00\"  text-anchor=\"middle\">\n",
       "\t\t<text>x</text>\n",
       "\t</g>\n",
       "</g>\n",
       "<g fill=\"none\" color=\"black\" stroke=\"currentColor\" stroke-width=\"1.00\" stroke-linecap=\"butt\" stroke-linejoin=\"miter\">\n",
       "</g>\n",
       "\t<g id=\"gnuplot_plot_1\" ><title>gnuplot_plot_1</title>\n",
       "<g fill=\"none\" color=\"black\" stroke=\"currentColor\" stroke-width=\"1.00\" stroke-linecap=\"butt\" stroke-linejoin=\"miter\">\n",
       "\t<path stroke='rgb(  0,   0, 255)'  d='M84.63,216.91 L85.68,219.15 L86.72,221.39 L87.77,223.63 L88.82,225.87 L89.87,228.11 L90.91,230.35 L91.96,232.59\n",
       "\t\tL93.01,234.82 L94.06,237.05 L95.10,239.27 L96.15,241.49 L97.20,243.71 L98.25,245.92 L99.29,248.13 L100.34,250.33\n",
       "\t\tL101.39,252.52 L102.44,254.71 L103.48,256.89 L104.53,259.06 L105.58,261.23 L106.63,263.39 L107.67,265.54 L108.72,267.68\n",
       "\t\tL109.77,269.81 L110.81,271.93 L111.86,274.04 L112.91,276.14 L113.96,278.23 L115.00,280.31 L116.05,282.37 L117.10,284.43\n",
       "\t\tL118.15,286.47 L119.19,288.50 L120.24,290.52 L121.29,292.52 L122.34,294.51 L123.38,296.48 L124.43,298.44 L125.48,300.39\n",
       "\t\tL126.53,302.32 L127.57,304.24 L128.62,306.13 L129.67,308.02 L130.72,309.88 L131.76,311.73 L132.81,313.56 L133.86,315.37\n",
       "\t\tL134.90,317.17 L135.95,318.95 L137.00,320.70 L138.05,322.44 L139.09,324.16 L140.14,325.86 L141.19,327.54 L142.24,329.20\n",
       "\t\tL143.28,330.84 L144.33,332.46 L145.38,334.06 L146.43,335.63 L147.47,337.19 L148.52,338.72 L149.57,340.23 L150.62,341.71\n",
       "\t\tL151.66,343.18 L152.71,344.62 L153.76,346.04 L154.81,347.43 L155.85,348.80 L156.90,350.15 L157.95,351.47 L158.99,352.76\n",
       "\t\tL160.04,354.03 L161.09,355.28 L162.14,356.50 L163.18,357.70 L164.23,358.87 L165.28,360.01 L166.33,361.13 L167.37,362.22\n",
       "\t\tL168.42,363.28 L169.47,364.32 L170.52,365.33 L171.56,366.31 L172.61,367.27 L173.66,368.20 L174.71,369.10 L175.75,369.97\n",
       "\t\tL176.80,370.82 L178.90,372.42 L180.99,373.91 L183.08,375.28 L185.18,376.54 L187.27,377.69 L189.37,378.71 L191.46,379.61\n",
       "\t\tL193.56,380.40 L195.65,381.07 L197.75,381.61 L199.84,382.04 L201.94,382.34 L202.99,382.45 L204.03,382.52 L205.08,382.57\n",
       "\t\tL206.13,382.58 L207.17,382.57 L208.22,382.52 L209.27,382.45 L210.32,382.34 L211.36,382.20 L212.41,382.04 L213.46,381.84\n",
       "\t\tL214.51,381.61 L215.55,381.35 L216.60,381.07 L217.65,380.75 L218.70,380.40 L220.79,379.61 L222.89,378.71 L224.98,377.69\n",
       "\t\tL227.08,376.54 L229.17,375.28 L231.26,373.91 L233.36,372.42 L235.45,370.82 L237.55,369.10 L239.64,367.27 L241.74,365.33\n",
       "\t\tL243.83,363.28 L245.93,361.13 L248.02,358.87 L250.12,356.50 L252.21,354.03 L254.31,351.47 L256.40,348.80 L258.50,346.04\n",
       "\t\tL260.59,343.18 L262.69,340.23 L264.78,337.19 L266.88,334.06 L268.97,330.84 L271.07,327.54 L273.16,324.16 L275.26,320.70\n",
       "\t\tL277.35,317.17 L279.44,313.56 L281.54,309.88 L283.63,306.13 L285.73,302.32 L287.82,298.44 L289.92,294.51 L292.01,290.52\n",
       "\t\tL294.11,286.47 L296.20,282.37 L298.30,278.23 L300.39,274.04 L302.49,269.81 L304.58,265.54 L306.68,261.23 L308.77,256.89\n",
       "\t\tL310.87,252.52 L312.96,248.13 L315.06,243.71 L317.15,239.27 L319.25,234.82 L321.34,230.35 L323.44,225.87 L325.53,221.39\n",
       "\t\tL327.63,216.90 L329.72,212.42 L331.81,207.94 L333.91,203.46 L336.00,198.99 L338.10,194.54 L340.19,190.10 L342.29,185.68\n",
       "\t\tL344.38,181.29 L346.48,176.92 L348.57,172.58 L350.67,168.27 L352.76,164.00 L354.86,159.77 L356.95,155.58 L359.05,151.44\n",
       "\t\tL361.14,147.34 L363.24,143.29 L365.33,139.30 L367.43,135.37 L369.52,131.49 L371.62,127.68 L373.71,123.93 L375.81,120.25\n",
       "\t\tL377.90,116.64 L379.99,113.11 L382.09,109.65 L384.18,106.27 L386.28,102.97 L388.37,99.75 L390.47,96.62 L392.56,93.58\n",
       "\t\tL394.66,90.63 L396.75,87.77 L398.85,85.01 L400.94,82.34 L403.04,79.78 L405.13,77.31 L407.23,74.94 L409.32,72.68\n",
       "\t\tL411.42,70.53 L413.51,68.48 L415.61,66.54 L417.70,64.71 L419.80,62.99 L421.89,61.39 L423.99,59.90 L426.08,58.53\n",
       "\t\tL428.17,57.27 L430.27,56.12 L432.36,55.10 L434.46,54.20 L436.55,53.41 L438.65,52.74 L440.74,52.20 L442.84,51.77\n",
       "\t\tL444.93,51.47 L445.98,51.36 L447.03,51.29 L448.08,51.24 L449.12,51.23 L450.17,51.24 L451.22,51.29 L452.26,51.36\n",
       "\t\tL453.31,51.47 L454.36,51.61 L455.41,51.77 L456.45,51.97 L457.50,52.20 L458.55,52.46 L459.60,52.74 L460.64,53.06\n",
       "\t\tL461.69,53.41 L462.74,53.79 L463.79,54.20 L464.83,54.63 L465.88,55.10 L466.93,55.60 L467.98,56.12 L469.02,56.68\n",
       "\t\tL470.07,57.27 L471.12,57.88 L472.17,58.53 L473.21,59.20 L474.26,59.90 L475.31,60.63 L476.35,61.39 L477.40,62.18\n",
       "\t\tL478.45,62.99 L479.50,63.84 L480.54,64.71 L481.59,65.61 L482.64,66.54 L483.69,67.50 L484.73,68.48 L485.78,69.49\n",
       "\t\tL486.83,70.53 L487.88,71.59 L488.92,72.68 L489.97,73.80 L491.02,74.94 L492.07,76.11 L493.11,77.31 L494.16,78.53\n",
       "\t\tL495.21,79.78 L496.26,81.05 L497.30,82.34 L498.35,83.66 L499.40,85.01 L500.44,86.38 L501.49,87.77 L502.54,89.19\n",
       "\t\tL503.59,90.63 L504.63,92.10 L505.68,93.58 L506.73,95.09 L507.78,96.62 L508.82,98.18 L509.87,99.75 L510.92,101.35\n",
       "\t\tL511.97,102.97 L513.01,104.61 L514.06,106.27 L515.11,107.95 L516.16,109.65 L517.20,111.37 L518.25,113.11 L519.30,114.86\n",
       "\t\tL520.35,116.64 L521.39,118.44 L522.44,120.25 L523.49,122.08 L524.53,123.93 L525.58,125.79 L526.63,127.68 L527.68,129.57\n",
       "\t\tL528.72,131.49 L529.77,133.42 L530.82,135.37 L531.87,137.33 L532.91,139.30 L533.96,141.29 L535.01,143.29 L536.06,145.31\n",
       "\t\tL537.10,147.34 L538.15,149.38 L539.20,151.44 L540.25,153.50 L541.29,155.58 L542.34,157.67 L543.39,159.77 L544.44,161.88\n",
       "\t\tL545.48,164.00 L546.53,166.13 L547.58,168.27 L548.62,170.42 L549.67,172.58 L550.72,174.75 L551.77,176.92 L552.81,179.10\n",
       "\t\tL553.86,181.29 L554.91,183.48 L555.96,185.68 L557.00,187.89 L558.05,190.10 L559.10,192.32 L560.15,194.54 L561.19,196.76\n",
       "\t\tL562.24,198.99 L563.29,201.22 L564.34,203.46 L565.38,205.70 L566.43,207.94 L567.48,210.18 L568.53,212.42 L569.57,214.66\n",
       "\t\tL570.62,216.90  '/></g>\n",
       "\t</g>\n",
       "<g fill=\"none\" color=\"black\" stroke=\"currentColor\" stroke-width=\"1.00\" stroke-linecap=\"butt\" stroke-linejoin=\"miter\">\n",
       "\t<path stroke='black'  d='M84.63,382.58 L95.13,382.58 M570.62,382.58 L560.12,382.58  '/>\t<g transform=\"translate(74.84,387.13)\" stroke=\"none\" fill=\"black\" font-family=\"Arial\" font-size=\"14.00\"  text-anchor=\"end\">\n",
       "\t\t<text><tspan font-family=\"Arial\" >-1</tspan></text>\n",
       "\t</g>\n",
       "</g>\n",
       "<g fill=\"none\" color=\"black\" stroke=\"currentColor\" stroke-width=\"1.00\" stroke-linecap=\"butt\" stroke-linejoin=\"miter\">\n",
       "\t<path stroke='black'  d='M84.63,299.74 L95.13,299.74 M570.62,299.74 L560.12,299.74  '/>\t<g transform=\"translate(74.84,304.29)\" stroke=\"none\" fill=\"black\" font-family=\"Arial\" font-size=\"14.00\"  text-anchor=\"end\">\n",
       "\t\t<text><tspan font-family=\"Arial\" >-0.5</tspan></text>\n",
       "\t</g>\n",
       "</g>\n",
       "<g fill=\"none\" color=\"black\" stroke=\"currentColor\" stroke-width=\"1.00\" stroke-linecap=\"butt\" stroke-linejoin=\"miter\">\n",
       "\t<path stroke='black'  d='M84.63,216.90 L95.13,216.90 M570.62,216.90 L560.12,216.90  '/>\t<g transform=\"translate(74.84,221.45)\" stroke=\"none\" fill=\"black\" font-family=\"Arial\" font-size=\"14.00\"  text-anchor=\"end\">\n",
       "\t\t<text><tspan font-family=\"Arial\" > 0</tspan></text>\n",
       "\t</g>\n",
       "</g>\n",
       "<g fill=\"none\" color=\"black\" stroke=\"currentColor\" stroke-width=\"1.00\" stroke-linecap=\"butt\" stroke-linejoin=\"miter\">\n",
       "\t<path stroke='black'  d='M84.63,134.07 L95.13,134.07 M570.62,134.07 L560.12,134.07  '/>\t<g transform=\"translate(74.84,138.62)\" stroke=\"none\" fill=\"black\" font-family=\"Arial\" font-size=\"14.00\"  text-anchor=\"end\">\n",
       "\t\t<text><tspan font-family=\"Arial\" > 0.5</tspan></text>\n",
       "\t</g>\n",
       "</g>\n",
       "<g fill=\"none\" color=\"black\" stroke=\"currentColor\" stroke-width=\"1.00\" stroke-linecap=\"butt\" stroke-linejoin=\"miter\">\n",
       "\t<path stroke='black'  d='M84.63,51.23 L95.13,51.23 M570.62,51.23 L560.12,51.23  '/>\t<g transform=\"translate(74.84,55.78)\" stroke=\"none\" fill=\"black\" font-family=\"Arial\" font-size=\"14.00\"  text-anchor=\"end\">\n",
       "\t\t<text><tspan font-family=\"Arial\" > 1</tspan></text>\n",
       "\t</g>\n",
       "</g>\n",
       "<g fill=\"none\" color=\"black\" stroke=\"currentColor\" stroke-width=\"1.00\" stroke-linecap=\"butt\" stroke-linejoin=\"miter\">\n",
       "\t<path stroke='black'  d='M95.58,399.15 L95.58,388.65 M95.58,34.66 L95.58,45.16  '/>\t<g transform=\"translate(95.58,424.70)\" stroke=\"none\" fill=\"black\" font-family=\"Arial\" font-size=\"14.00\"  text-anchor=\"middle\">\n",
       "\t\t<text><tspan font-family=\"Arial\" >-3</tspan></text>\n",
       "\t</g>\n",
       "</g>\n",
       "<g fill=\"none\" color=\"black\" stroke=\"currentColor\" stroke-width=\"1.00\" stroke-linecap=\"butt\" stroke-linejoin=\"miter\">\n",
       "\t<path stroke='black'  d='M172.93,399.15 L172.93,388.65 M172.93,34.66 L172.93,45.16  '/>\t<g transform=\"translate(172.93,424.70)\" stroke=\"none\" fill=\"black\" font-family=\"Arial\" font-size=\"14.00\"  text-anchor=\"middle\">\n",
       "\t\t<text><tspan font-family=\"Arial\" >-2</tspan></text>\n",
       "\t</g>\n",
       "</g>\n",
       "<g fill=\"none\" color=\"black\" stroke=\"currentColor\" stroke-width=\"1.00\" stroke-linecap=\"butt\" stroke-linejoin=\"miter\">\n",
       "\t<path stroke='black'  d='M250.28,399.15 L250.28,388.65 M250.28,34.66 L250.28,45.16  '/>\t<g transform=\"translate(250.28,424.70)\" stroke=\"none\" fill=\"black\" font-family=\"Arial\" font-size=\"14.00\"  text-anchor=\"middle\">\n",
       "\t\t<text><tspan font-family=\"Arial\" >-1</tspan></text>\n",
       "\t</g>\n",
       "</g>\n",
       "<g fill=\"none\" color=\"black\" stroke=\"currentColor\" stroke-width=\"1.00\" stroke-linecap=\"butt\" stroke-linejoin=\"miter\">\n",
       "\t<path stroke='black'  d='M327.63,399.15 L327.63,388.65 M327.63,34.66 L327.63,45.16  '/>\t<g transform=\"translate(327.63,424.70)\" stroke=\"none\" fill=\"black\" font-family=\"Arial\" font-size=\"14.00\"  text-anchor=\"middle\">\n",
       "\t\t<text><tspan font-family=\"Arial\" > 0</tspan></text>\n",
       "\t</g>\n",
       "</g>\n",
       "<g fill=\"none\" color=\"black\" stroke=\"currentColor\" stroke-width=\"1.00\" stroke-linecap=\"butt\" stroke-linejoin=\"miter\">\n",
       "\t<path stroke='black'  d='M404.97,399.15 L404.97,388.65 M404.97,34.66 L404.97,45.16  '/>\t<g transform=\"translate(404.97,424.70)\" stroke=\"none\" fill=\"black\" font-family=\"Arial\" font-size=\"14.00\"  text-anchor=\"middle\">\n",
       "\t\t<text><tspan font-family=\"Arial\" > 1</tspan></text>\n",
       "\t</g>\n",
       "</g>\n",
       "<g fill=\"none\" color=\"black\" stroke=\"currentColor\" stroke-width=\"1.00\" stroke-linecap=\"butt\" stroke-linejoin=\"miter\">\n",
       "\t<path stroke='black'  d='M482.32,399.15 L482.32,388.65 M482.32,34.66 L482.32,45.16  '/>\t<g transform=\"translate(482.32,424.70)\" stroke=\"none\" fill=\"black\" font-family=\"Arial\" font-size=\"14.00\"  text-anchor=\"middle\">\n",
       "\t\t<text><tspan font-family=\"Arial\" > 2</tspan></text>\n",
       "\t</g>\n",
       "</g>\n",
       "<g fill=\"none\" color=\"black\" stroke=\"currentColor\" stroke-width=\"1.00\" stroke-linecap=\"butt\" stroke-linejoin=\"miter\">\n",
       "\t<path stroke='black'  d='M559.67,399.15 L559.67,388.65 M559.67,34.66 L559.67,45.16  '/>\t<g transform=\"translate(559.67,424.70)\" stroke=\"none\" fill=\"black\" font-family=\"Arial\" font-size=\"14.00\"  text-anchor=\"middle\">\n",
       "\t\t<text><tspan font-family=\"Arial\" > 3</tspan></text>\n",
       "\t</g>\n",
       "</g>\n",
       "<g fill=\"none\" color=\"black\" stroke=\"currentColor\" stroke-width=\"1.00\" stroke-linecap=\"butt\" stroke-linejoin=\"miter\">\n",
       "</g>\n",
       "<g fill=\"none\" color=\"gray\" stroke=\"currentColor\" stroke-width=\"1.00\" stroke-linecap=\"butt\" stroke-linejoin=\"miter\">\n",
       "\t<path stroke='black' stroke-dasharray='2,4'  d='M84.63,216.90 L570.62,216.90  '/></g>\n",
       "<g fill=\"none\" color=\"gray\" stroke=\"currentColor\" stroke-width=\"1.00\" stroke-linecap=\"butt\" stroke-linejoin=\"miter\">\n",
       "\t<path stroke='black' stroke-dasharray='2,4'  d='M327.63,399.15 L327.63,34.66  '/></g>\n",
       "<g fill=\"none\" color=\"gray\" stroke=\"black\" stroke-width=\"2.00\" stroke-linecap=\"butt\" stroke-linejoin=\"miter\">\n",
       "</g>\n",
       "<g fill=\"none\" color=\"black\" stroke=\"currentColor\" stroke-width=\"2.00\" stroke-linecap=\"butt\" stroke-linejoin=\"miter\">\n",
       "</g>\n",
       "<g fill=\"none\" color=\"black\" stroke=\"black\" stroke-width=\"1.00\" stroke-linecap=\"butt\" stroke-linejoin=\"miter\">\n",
       "</g>\n",
       "<g fill=\"none\" color=\"black\" stroke=\"currentColor\" stroke-width=\"1.00\" stroke-linecap=\"butt\" stroke-linejoin=\"miter\">\n",
       "\t<path stroke='black'  d='M84.63,34.66 L84.63,399.15 L570.62,399.15 L570.62,34.66 L84.63,34.66 Z  '/></g>\n",
       "<g fill=\"none\" color=\"black\" stroke=\"currentColor\" stroke-width=\"1.00\" stroke-linecap=\"butt\" stroke-linejoin=\"miter\">\n",
       "</g>\n",
       "</g>\n",
       "</svg>\n",
       "\n"
      ],
      "text/plain": [
       "~/.maxplot.svg"
      ]
     },
     "metadata": {},
     "output_type": "display_data"
    }
   ],
   "source": [
    "set_plot_option([svg_file, \"~/.maxplot.svg\"])$\n",
    "plot2d(sin(x), [x, -%pi, %pi])$"
   ]
  },
  {
   "cell_type": "code",
   "execution_count": null,
   "id": "7721f49e-84f8-49bf-a84a-79b0992024bc",
   "metadata": {},
   "outputs": [],
   "source": []
  }
 ],
 "metadata": {
  "kernelspec": {
   "display_name": "Maxima",
   "language": "maxima",
   "name": "maxima"
  },
  "language_info": {
   "codemirror_mode": "maxima",
   "file_extension": ".mac",
   "mimetype": "text/x-maxima",
   "name": "maxima",
   "pygments_lexer": "maxima",
   "version": "5.45.1"
  }
 },
 "nbformat": 4,
 "nbformat_minor": 5
}
